{
 "cells": [
  {
   "cell_type": "markdown",
   "metadata": {},
   "source": []
  },
  {
   "cell_type": "code",
   "execution_count": 1,
   "metadata": {},
   "outputs": [
    {
     "ename": "ModuleNotFoundError",
     "evalue": "No module named 'ace_tools'",
     "output_type": "error",
     "traceback": [
      "\u001b[1;31m---------------------------------------------------------------------------\u001b[0m",
      "\u001b[1;31mModuleNotFoundError\u001b[0m                       Traceback (most recent call last)",
      "Cell \u001b[1;32mIn[1], line 24\u001b[0m\n\u001b[0;32m     21\u001b[0m position_dfs \u001b[38;5;241m=\u001b[39m {pos_id: filtered_df[filtered_df[\u001b[38;5;124m\"\u001b[39m\u001b[38;5;124mPosition ID\u001b[39m\u001b[38;5;124m\"\u001b[39m] \u001b[38;5;241m==\u001b[39m pos_id] \u001b[38;5;28;01mfor\u001b[39;00m pos_id \u001b[38;5;129;01min\u001b[39;00m unique_positions}\n\u001b[0;32m     23\u001b[0m \u001b[38;5;66;03m# Display filtered data for verification\u001b[39;00m\n\u001b[1;32m---> 24\u001b[0m \u001b[38;5;28;01mimport\u001b[39;00m\u001b[38;5;250m \u001b[39m\u001b[38;5;21;01mace_tools\u001b[39;00m\u001b[38;5;250m \u001b[39m\u001b[38;5;28;01mas\u001b[39;00m\u001b[38;5;250m \u001b[39m\u001b[38;5;21;01mtools\u001b[39;00m\n\u001b[0;32m     25\u001b[0m tools\u001b[38;5;241m.\u001b[39mdisplay_dataframe_to_user(name\u001b[38;5;241m=\u001b[39m\u001b[38;5;124m\"\u001b[39m\u001b[38;5;124mFiltered Liquidity Profile Data\u001b[39m\u001b[38;5;124m\"\u001b[39m, dataframe\u001b[38;5;241m=\u001b[39mfiltered_df)\n\u001b[0;32m     27\u001b[0m \u001b[38;5;66;03m# Plot Liquidity Profile for each Position ID\u001b[39;00m\n",
      "\u001b[1;31mModuleNotFoundError\u001b[0m: No module named 'ace_tools'"
     ]
    }
   ],
   "source": [
    "import pandas as pd\n",
    "import matplotlib.pyplot as plt\n",
    "\n",
    "# Load the CSV file\n",
    "file_path = \"liquidity_profile.csv\"  # Assuming this is the filename\n",
    "df = pd.read_csv(file_path)\n",
    "\n",
    "# Convert necessary columns to numeric values (handling scientific notation if necessary)\n",
    "df[\"Position Liquidity\"] = pd.to_numeric(df[\"Position Liquidity\"], errors=\"coerce\")\n",
    "df[\"Position X Amount\"] = pd.to_numeric(df[\"Position X Amount\"], errors=\"coerce\")\n",
    "df[\"Position Y Amount\"] = pd.to_numeric(df[\"Position Y Amount\"], errors=\"coerce\")\n",
    "df[\"Price\"] = pd.to_numeric(df[\"Price\"], errors=\"coerce\")\n",
    "\n",
    "# Filter out rows where both Position X Amount and Position Y Amount are zero\n",
    "filtered_df = df[(df[\"Position X Amount\"] != 0) | (df[\"Position Y Amount\"] != 0)]\n",
    "\n",
    "# Get unique Position IDs\n",
    "unique_positions = filtered_df[\"Position ID\"].unique()\n",
    "\n",
    "# Store individual DataFrames per Position ID\n",
    "position_dfs = {pos_id: filtered_df[filtered_df[\"Position ID\"] == pos_id] for pos_id in unique_positions}\n",
    "\n",
    "# Display filtered data for verification\n",
    "import ace_tools as tools\n",
    "tools.display_dataframe_to_user(name=\"Filtered Liquidity Profile Data\", dataframe=filtered_df)\n",
    "\n",
    "# Plot Liquidity Profile for each Position ID\n",
    "for pos_id, pos_df in position_dfs.items():\n",
    "    plt.figure(figsize=(10, 5))\n",
    "    plt.bar(pos_df[\"Price\"], pos_df[\"Position X Amount\"], label=\"Position X Amount\", alpha=0.7)\n",
    "    plt.bar(pos_df[\"Price\"], pos_df[\"Position Y Amount\"], label=\"Position Y Amount\", alpha=0.7, color=\"orange\")\n",
    "    \n",
    "    plt.xlabel(\"Price\")\n",
    "    plt.ylabel(\"Amount\")\n",
    "    plt.title(f\"Liquidity Profile for Position ID: {pos_id}\")\n",
    "    plt.legend()\n",
    "    plt.show()\n"
   ]
  }
 ],
 "metadata": {
  "kernelspec": {
   "display_name": "Python 3 (ipykernel)",
   "language": "python",
   "name": "python3"
  },
  "language_info": {
   "codemirror_mode": {
    "name": "ipython",
    "version": 3
   },
   "file_extension": ".py",
   "mimetype": "text/x-python",
   "name": "python",
   "nbconvert_exporter": "python",
   "pygments_lexer": "ipython3",
   "version": "3.9.0"
  }
 },
 "nbformat": 4,
 "nbformat_minor": 2
}
